{
 "cells": [
  {
   "cell_type": "markdown",
   "metadata": {
    "id": "Ot3c4fjZwC4T"
   },
   "source": [
    "<img src=\"https://s8.hostingkartinok.com/uploads/images/2018/08/308b49fcfbc619d629fe4604bceb67ac.jpg\" width=500, height=450>\n",
    "<h3 style=\"text-align: center;\"><b>Физтех-Школа Прикладной математики и информатики (ФПМИ) МФТИ</b></h3>"
   ]
  },
  {
   "cell_type": "markdown",
   "metadata": {
    "id": "P2JdzEXmwRU5"
   },
   "source": [
    "---"
   ]
  },
  {
   "cell_type": "markdown",
   "metadata": {
    "id": "Fc8iHXIVwDwj"
   },
   "source": [
    "***Some parts of the notebook are almost the copy of [ mmta-team course](https://github.com/mmta-team/mmta_fall_2020). Special thanks to mmta-team for making them publicly available. [Original notebook](https://github.com/mmta-team/mmta_fall_2020/blob/master/tasks/01_word_embeddings/task_word_embeddings.ipynb).***"
   ]
  },
  {
   "cell_type": "markdown",
   "metadata": {
    "id": "7D0wm5jt6j0U"
   },
   "source": [
    "<b> Прочитайте семинар, пожалуйста, для успешного выполнения домашнего задания. В конце ноутка напишите свой вывод. Работа без вывода оценивается ниже."
   ]
  },
  {
   "cell_type": "markdown",
   "metadata": {
    "id": "BIWqBuEa6j0b"
   },
   "source": [
    "## Задача поиска схожих по смыслу предложений"
   ]
  },
  {
   "cell_type": "markdown",
   "metadata": {
    "id": "NUkwMPLA6j0g"
   },
   "source": [
    "Мы будем ранжировать вопросы [StackOverflow](https://stackoverflow.com) на основе семантического векторного представления"
   ]
  },
  {
   "cell_type": "markdown",
   "metadata": {
    "id": "dNRXIEfu5a3Q"
   },
   "source": [
    "До этого в курсе не было речи про задачу ранжировния, поэтому введем математическую формулировку"
   ]
  },
  {
   "cell_type": "markdown",
   "metadata": {
    "id": "uS9FwWNd5a3S"
   },
   "source": [
    "## Задача ранжирования(Learning to Rank)"
   ]
  },
  {
   "cell_type": "markdown",
   "metadata": {
    "id": "wdwY9-f75a3T"
   },
   "source": [
    "* $X$ - множество объектов\n",
    "* $X^l = \\{x_1, x_2, ..., x_l\\}$ - обучающая выборка\n",
    "<br>На обучающей выборке задан порядок между некоторыми элементами, то есть нам известно, что некий объект выборки более релевантный для нас, чем другой:\n",
    "* $i \\prec j$ - порядок пары индексов объектов на выборке $X^l$ c индексами $i$ и $j$\n",
    "### Задача:\n",
    "построить ранжирующую функцию $a$ : $X \\rightarrow R$ такую, что\n",
    "$$i \\prec j \\Rightarrow a(x_i) < a(x_j)$$"
   ]
  },
  {
   "cell_type": "markdown",
   "metadata": {
    "id": "WG2IGBsh5a3U"
   },
   "source": [
    "<img src=\"https://d25skit2l41vkl.cloudfront.net/wp-content/uploads/2016/12/Featured-Image.jpg\" width=500, height=450>"
   ]
  },
  {
   "cell_type": "markdown",
   "metadata": {
    "id": "MQk_rolFwT_h"
   },
   "source": [
    "### Embeddings"
   ]
  },
  {
   "cell_type": "markdown",
   "metadata": {
    "id": "xUe1PGXn6j0l"
   },
   "source": [
    "Будем использовать предобученные векторные представления слов на постах Stack Overflow.<br>\n",
    "[A word2vec model trained on Stack Overflow posts](https://github.com/vefstathiou/SO_word2vec)"
   ]
  },
  {
   "cell_type": "code",
   "execution_count": null,
   "metadata": {
    "colab": {
     "base_uri": "https://localhost:8080/"
    },
    "id": "mYkI54Y-rk7a",
    "outputId": "79e4b5e0-9e6b-47b9-e41d-6361ba3b1e8d",
    "tags": []
   },
   "outputs": [],
   "source": [
    "!wget https://zenodo.org/record/1199620/files/SO_vectors_200.bin?download=1"
   ]
  },
  {
   "cell_type": "code",
   "execution_count": 1,
   "metadata": {
    "execution": {
     "iopub.execute_input": "2025-02-22T09:24:35.753295Z",
     "iopub.status.busy": "2025-02-22T09:24:35.752183Z",
     "iopub.status.idle": "2025-02-22T09:24:57.675514Z",
     "shell.execute_reply": "2025-02-22T09:24:57.674278Z",
     "shell.execute_reply.started": "2025-02-22T09:24:35.753259Z"
    },
    "id": "O8YJTOYv6j0s",
    "tags": []
   },
   "outputs": [],
   "source": [
    "from gensim.models.keyedvectors import KeyedVectors\n",
    "wv_embeddings = KeyedVectors.load_word2vec_format(\"SO_vectors_200.bin?download=1\", binary=True)"
   ]
  },
  {
   "cell_type": "markdown",
   "metadata": {
    "id": "aIcT_g-C6j1E"
   },
   "source": [
    "#### Как пользоваться этими векторами?"
   ]
  },
  {
   "cell_type": "markdown",
   "metadata": {
    "id": "DWO5SPDY6j1G"
   },
   "source": [
    "Посмотрим на примере одного слова, что из себя представляет embedding"
   ]
  },
  {
   "cell_type": "code",
   "execution_count": 2,
   "metadata": {
    "execution": {
     "iopub.execute_input": "2025-02-22T09:24:57.678900Z",
     "iopub.status.busy": "2025-02-22T09:24:57.677433Z",
     "iopub.status.idle": "2025-02-22T09:24:57.690816Z",
     "shell.execute_reply": "2025-02-22T09:24:57.690058Z",
     "shell.execute_reply.started": "2025-02-22T09:24:57.678862Z"
    },
    "id": "KeSBlQfk6j1J",
    "scrolled": true,
    "tags": []
   },
   "outputs": [
    {
     "name": "stdout",
     "output_type": "stream",
     "text": [
      "float32 (200,)\n"
     ]
    }
   ],
   "source": [
    "word = 'dog'\n",
    "if word in wv_embeddings:\n",
    "    print(wv_embeddings[word].dtype, wv_embeddings[word].shape)"
   ]
  },
  {
   "cell_type": "code",
   "execution_count": 3,
   "metadata": {
    "execution": {
     "iopub.execute_input": "2025-02-22T09:24:57.692743Z",
     "iopub.status.busy": "2025-02-22T09:24:57.691897Z",
     "iopub.status.idle": "2025-02-22T09:24:57.703156Z",
     "shell.execute_reply": "2025-02-22T09:24:57.702354Z",
     "shell.execute_reply.started": "2025-02-22T09:24:57.692715Z"
    },
    "id": "T4Eq-D1qxpMJ",
    "tags": []
   },
   "outputs": [
    {
     "name": "stdout",
     "output_type": "stream",
     "text": [
      "Num of words: 1787145\n"
     ]
    }
   ],
   "source": [
    "print(f\"Num of words: {len(wv_embeddings.index_to_key)}\")"
   ]
  },
  {
   "cell_type": "markdown",
   "metadata": {
    "id": "ZT6NTCys6j1Q"
   },
   "source": [
    "Найдем наиболее близкие слова к слову `dog`:"
   ]
  },
  {
   "cell_type": "markdown",
   "metadata": {
    "id": "n08z2PjMwC5o"
   },
   "source": [
    "#### ***Вопрос 1:***\n",
    "* Входит ли слово `cat` в топ-5 близких слов к слову `dog`? Какое место оно занимает?\n"
   ]
  },
  {
   "cell_type": "code",
   "execution_count": 4,
   "metadata": {
    "execution": {
     "iopub.execute_input": "2025-02-22T09:24:57.705371Z",
     "iopub.status.busy": "2025-02-22T09:24:57.704666Z",
     "iopub.status.idle": "2025-02-22T09:24:59.610666Z",
     "shell.execute_reply": "2025-02-22T09:24:59.609604Z",
     "shell.execute_reply.started": "2025-02-22T09:24:57.705345Z"
    },
    "id": "nYwVz0xG6j1U",
    "scrolled": true,
    "tags": []
   },
   "outputs": [
    {
     "data": {
      "text/plain": [
       "[('animal', 0.8564180135726929),\n",
       " ('dogs', 0.7880866527557373),\n",
       " ('mammal', 0.7623804211616516),\n",
       " ('cats', 0.7621253728866577),\n",
       " ('animals', 0.760793924331665)]"
      ]
     },
     "execution_count": 4,
     "metadata": {},
     "output_type": "execute_result"
    }
   ],
   "source": [
    "# method most_simmilar\n",
    "wv_embeddings.most_similar('dog', topn=5)"
   ]
  },
  {
   "cell_type": "markdown",
   "metadata": {
    "id": "7Wu7O43AY5jH"
   },
   "source": [
    "***Ваш ответ:*** 'cat' не входит в топ-5 ближайших слов к 'dog', но при этом входит слово 'cats'"
   ]
  },
  {
   "cell_type": "markdown",
   "metadata": {
    "id": "ai48-5vv6j1d"
   },
   "source": [
    "### Векторные представления текста\n",
    "\n",
    "Перейдем от векторных представлений отдельных слов к векторным представлениям вопросов, как к **среднему** векторов всех слов в вопросе. Если для какого-то слова нет предобученного вектора, то его нужно пропустить. Если вопрос не содержит ни одного известного слова, то нужно вернуть нулевой вектор."
   ]
  },
  {
   "cell_type": "code",
   "execution_count": 5,
   "metadata": {
    "execution": {
     "iopub.execute_input": "2025-02-22T09:24:59.612523Z",
     "iopub.status.busy": "2025-02-22T09:24:59.611796Z",
     "iopub.status.idle": "2025-02-22T09:25:01.802206Z",
     "shell.execute_reply": "2025-02-22T09:25:01.801366Z",
     "shell.execute_reply.started": "2025-02-22T09:24:59.612479Z"
    },
    "id": "EhNuxBJd6j1f",
    "tags": []
   },
   "outputs": [],
   "source": [
    "from nltk.tokenize import WordPunctTokenizer\n",
    "# from nltk.tokenize import TweetTokenizer\n",
    "\n",
    "tokenizer = WordPunctTokenizer()"
   ]
  },
  {
   "cell_type": "code",
   "execution_count": 62,
   "metadata": {
    "execution": {
     "iopub.execute_input": "2025-02-22T09:55:22.663391Z",
     "iopub.status.busy": "2025-02-22T09:55:22.661939Z",
     "iopub.status.idle": "2025-02-22T09:55:22.676509Z",
     "shell.execute_reply": "2025-02-22T09:55:22.675785Z",
     "shell.execute_reply.started": "2025-02-22T09:55:22.663353Z"
    },
    "id": "YHcvu6186j1m",
    "tags": []
   },
   "outputs": [],
   "source": [
    "import numpy as np\n",
    "\n",
    "def question_to_vec(question, embeddings, tokenizer, dim=200):\n",
    "    \"\"\"\n",
    "        question: строка\n",
    "        embeddings: наше векторное представление\n",
    "        dim: размер любого вектора в нашем представлении\n",
    "\n",
    "        return: векторное представление для вопроса\n",
    "    \"\"\"\n",
    "    assert embeddings.vector_size == dim,  'Dim size dont match size of pretrained emdedings'\n",
    "    tokens = tokenizer.tokenize(question) # токенизация работает лучше на словах с маленькими буквами\n",
    "    result = np.zeros(dim)\n",
    "    num_words = 0\n",
    "\n",
    "    for tok in tokens:\n",
    "        if tok in embeddings.key_to_index:\n",
    "            result += embeddings.get_vector(tok)\n",
    "            num_words += 1\n",
    "    return result / num_words if num_words != 0 else result"
   ]
  },
  {
   "cell_type": "markdown",
   "metadata": {
    "id": "u5Q_4j7r6j1u"
   },
   "source": [
    "#### Теперь у нас есть метод для создания векторного представления любого предложения."
   ]
  },
  {
   "cell_type": "markdown",
   "metadata": {
    "id": "EsJSNkhm6j1y"
   },
   "source": [
    "#### ***Вопрос 2:***\n",
    "\n",
    "* Какая третья (с индексом 2) компонента вектора предложения `I love neural networks` (округлите до 2 знаков после запятой)?\n",
    "Ответ - -1.29"
   ]
  },
  {
   "cell_type": "code",
   "execution_count": 63,
   "metadata": {
    "execution": {
     "iopub.execute_input": "2025-02-22T09:55:26.795204Z",
     "iopub.status.busy": "2025-02-22T09:55:26.794033Z",
     "iopub.status.idle": "2025-02-22T09:55:26.824643Z",
     "shell.execute_reply": "2025-02-22T09:55:26.823805Z",
     "shell.execute_reply.started": "2025-02-22T09:55:26.795170Z"
    },
    "id": "a62r11cT6j10",
    "scrolled": true,
    "tags": []
   },
   "outputs": [],
   "source": [
    "# Предложение\n",
    "question = \"I love neural networks\"\n",
    "\n",
    "result = question_to_vec(question, wv_embeddings, tokenizer, dim=200)"
   ]
  },
  {
   "cell_type": "code",
   "execution_count": 64,
   "metadata": {
    "execution": {
     "iopub.execute_input": "2025-02-22T09:55:27.837859Z",
     "iopub.status.busy": "2025-02-22T09:55:27.836919Z",
     "iopub.status.idle": "2025-02-22T09:55:27.853740Z",
     "shell.execute_reply": "2025-02-22T09:55:27.852871Z",
     "shell.execute_reply.started": "2025-02-22T09:55:27.837829Z"
    },
    "tags": []
   },
   "outputs": [
    {
     "data": {
      "text/plain": [
       "-1.29"
      ]
     },
     "execution_count": 64,
     "metadata": {},
     "output_type": "execute_result"
    }
   ],
   "source": [
    "round(result[2], 2) # ответ на вопрос"
   ]
  },
  {
   "cell_type": "markdown",
   "metadata": {
    "id": "Y60z4t6W6j16"
   },
   "source": [
    "### Оценка близости текстов\n",
    "\n",
    "Представим, что мы используем идеальные векторные представления слов. Тогда косинусное расстояние между дублирующими предложениями должно быть меньше, чем между случайно взятыми предложениями.\n",
    "\n",
    "Сгенерируем для каждого из $N$ вопросов $R$ случайных отрицательных примеров и примешаем к ним также настоящие дубликаты. Для каждого вопроса будем ранжировать с помощью нашей модели $R + 1$ примеров и смотреть на позицию дубликата. Мы хотим, чтобы дубликат был первым в ранжированном списке.\n",
    "\n",
    "#### Hits@K\n",
    "Первой простой метрикой будет количество корректных попаданий для какого-то $K$:\n",
    "$$ \\text{Hits@K} = \\frac{1}{N}\\sum_{i=1}^N \\, [rank\\_q_i^{'} \\le K],$$\n",
    "* $\\begin{equation*}\n",
    "[x < 0 ] \\equiv\n",
    " \\begin{cases}\n",
    "   1, &x < 0\\\\\n",
    "   0, &x \\geq 0\n",
    " \\end{cases}\n",
    "\\end{equation*}$ - индикаторная функция\n",
    "* $q_i$ - $i$-ый вопрос\n",
    "* $q_i^{'}$ - его дубликат\n",
    "* $rank\\_q_i^{'}$ - позиция дубликата в ранжированном списке ближайших предложений для вопроса $q_i$.\n",
    "\n",
    "Hits@K  измеряет долю вопросов, для которых правильный ответ попал в топ-K позиций среди отранжированных кандидатов.\n",
    "\n",
    "#### DCG@K\n",
    "Второй метрикой будет упрощенная DCG метрика, учитывающая порядок элементов в списке путем домножения релевантности элемента на вес равный обратному логарифму номера позиции::\n",
    "$$ \\text{DCG@K} = \\frac{1}{N} \\sum_{i=1}^N\\frac{1}{\\log_2(1+rank\\_q_i^{'})}\\cdot[rank\\_q_i^{'} \\le K],$$\n",
    "С такой метрикой модель штрафуется за большой ранк корректного ответа.\n",
    "\n",
    "DCG@K  измеряет качество ранжирования, учитывая не только факт наличия правильного ответа в топ-K, но и ***его точную позицию***."
   ]
  },
  {
   "cell_type": "markdown",
   "metadata": {
    "id": "_tFemBkP6j1-"
   },
   "source": [
    "<img src='https://hsto.org/files/1c5/edf/dee/1c5edfdeebce4b71a86bdf986d9f88f2.jpg' width=400, height=200>"
   ]
  },
  {
   "cell_type": "markdown",
   "metadata": {
    "id": "0sUSxk866j1_"
   },
   "source": [
    "#### Пример оценок\n",
    "\n",
    "Вычислим описанные выше метрики для игрушечного примера.\n",
    "Пусть\n",
    "* $N = 1$, $R = 3$\n",
    "* <font color='green'>\"Что такое python?\"</font> - вопрос $q_1$\n",
    "* <font color='red'>\"Что такое язык python?\"</font> - его дубликат $q_i^{'}$\n",
    "\n",
    "Пусть модель выдала следующий ранжированный список кандидатов:\n",
    "\n",
    "1. \"Как изучить с++?\"\n",
    "2. <font color='red'>\"Что такое язык python?\"</font>\n",
    "3. \"Хочу учить Java\"\n",
    "4. \"Не понимаю Tensorflow\"\n",
    "\n",
    "$\\Rightarrow rank\\_q_i^{'} = 2$"
   ]
  },
  {
   "cell_type": "markdown",
   "metadata": {
    "id": "-XXCbN3uUiHU"
   },
   "source": [
    "Вычислим метрику *Hits@K* для *K = 1, 4*:\n",
    "\n",
    "- [K = 1] $\\text{Hits@1} =  [rank\\_q_i^{'} \\le 1]$\n",
    "\n",
    "Проверяем условие $ \\text{rank}_{q'_1} \\leq 1 $: ***условие неверно***.\n",
    "\n",
    "Следовательно, $[\\text{rank}_{q'_1} \\leq 1] = 0$.\n",
    "\n",
    "- [K = 4] $\\text{Hits@4} =  [rank\\_q_i^{'} \\le 4] = 1$\n",
    "\n",
    "Проверяем условие $ \\text{rank}_{q'_1} \\leq 4 $: ***условие верно***."
   ]
  },
  {
   "cell_type": "markdown",
   "metadata": {
    "id": "Ya9gf-dvVGmm"
   },
   "source": [
    "Вычислим метрику *DCG@K* для *K = 1, 4*:\n",
    "- [K = 1] $\\text{DCG@1} = \\frac{1}{\\log_2(1+2)}\\cdot[2 \\le 1] = 0$\n",
    "- [K = 4] $\\text{DCG@4} = \\frac{1}{\\log_2(1+2)}\\cdot[2 \\le 4] = \\frac{1}{\\log_2{3}}$"
   ]
  },
  {
   "cell_type": "markdown",
   "metadata": {
    "id": "B4L6HJJC6j2B"
   },
   "source": [
    "#### ***Вопрос 3***:\n",
    "* Вычислите `DCG@10`, если $rank\\_q_i^{'} = 9$(округлите до одного знака после запятой)\n",
    "\n"
   ]
  },
  {
   "cell_type": "code",
   "execution_count": 65,
   "metadata": {
    "execution": {
     "iopub.execute_input": "2025-02-22T09:55:31.873565Z",
     "iopub.status.busy": "2025-02-22T09:55:31.872487Z",
     "iopub.status.idle": "2025-02-22T09:55:31.889340Z",
     "shell.execute_reply": "2025-02-22T09:55:31.888529Z",
     "shell.execute_reply.started": "2025-02-22T09:55:31.873516Z"
    },
    "tags": []
   },
   "outputs": [
    {
     "data": {
      "text/plain": [
       "0.3"
      ]
     },
     "execution_count": 65,
     "metadata": {},
     "output_type": "execute_result"
    }
   ],
   "source": [
    "round(1 / np.log2(10), 1) # ответ на вопрос"
   ]
  },
  {
   "cell_type": "markdown",
   "metadata": {
    "id": "hM1PtUq3haNS"
   },
   "source": [
    "#### Более сложный пример оценок\n",
    "\n",
    "Рассмотрим пример с $ N > 1 $, где $ N = 3 $ (три вопроса) и для каждого вопроса заданы позиции их дубликатов. Вычислим метрики **Hits@K** для разных значений $ K $.\n",
    "\n",
    "---\n",
    "\n",
    "- $ N = 3 $: Три вопроса ($ q_1, q_2, q_3 $).\n",
    "- Для каждого вопроса известна позиция его дубликата ($ \\text{rank}_{q'_i} $):\n",
    "  - $ \\text{rank}_{q'_1} = 2 $,\n",
    "  - $ \\text{rank}_{q'_2} = 5 $,\n",
    "  - $ \\text{rank}_{q'_3} = 1 $.\n",
    "\n",
    "Мы будем вычислять **Hits@K** для $ K = 1, 5 $.\n",
    "\n",
    "---\n",
    "\n",
    "**Для $ K = 1 $:**\n",
    "\n",
    "Подставим значения:\n",
    "$$\n",
    "\\text{Hits@1} = \\frac{1}{3} \\cdot \\left( [\\text{rank}_{q'_1} \\leq 1] + [\\text{rank}_{q'_2} \\leq 1] + [\\text{rank}_{q'_3} \\leq 1] \\right).\n",
    "$$\n",
    "\n",
    "Проверяем условие $ \\text{rank}_{q'_i} \\leq 1 $ для каждого вопроса:\n",
    "- $ \\text{rank}_{q'_1} = 2 $ → $ 2 \\not\\leq 1 $ → $ 0 $,\n",
    "- $ \\text{rank}_{q'_2} = 5 $ → $ 5 \\not\\leq 1 $ → $ 0 $,\n",
    "- $ \\text{rank}_{q'_3} = 1 $ → $ 1 \\leq 1 $ → $ 1 $.\n",
    "\n",
    "Сумма:\n",
    "$$\n",
    "\\text{Hits@1} = \\frac{1}{3} \\cdot (0 + 0 + 1) = \\frac{1}{3}.\n",
    "$$\n",
    "\n",
    "$$\n",
    "\\boxed{\\text{Hits@1} = \\frac{1}{3}}.\n",
    "$$\n",
    "\n",
    "---\n",
    "\n",
    "**Для $ K = 5 $:**\n",
    "\n",
    "Подставим значения:\n",
    "$$\n",
    "\\text{Hits@5} = \\frac{1}{3} \\cdot \\left( [\\text{rank}_{q'_1} \\leq 5] + [\\text{rank}_{q'_2} \\leq 5] + [\\text{rank}_{q'_3} \\leq 5] \\right).\n",
    "$$\n",
    "\n",
    "Проверяем условие $ \\text{rank}_{q'_i} \\leq 5 $ для каждого вопроса:\n",
    "- $ \\text{rank}_{q'_1} = 2 $ → $ 2 \\leq 5 $ → $ 1 $,\n",
    "- $ \\text{rank}_{q'_2} = 5 $ → $ 5 \\leq 5 $ → $ 1 $,\n",
    "- $ \\text{rank}_{q'_3} = 1 $ → $ 1 \\leq 5 $ → $ 1 $.\n",
    "\n",
    "Сумма:\n",
    "$$\n",
    "\\text{Hits@5} = \\frac{1}{3} \\cdot (1 + 1 + 1) = 1.\n",
    "$$\n",
    "\n",
    "$$\n",
    "\\boxed{\\text{Hits@5} = 1}.\n",
    "$$"
   ]
  },
  {
   "cell_type": "markdown",
   "metadata": {
    "id": "ngfvO7JsqROf"
   },
   "source": [
    "Теперь вычислим метрику **DCG@K** для того же примера, где $ N = 3 $ (три вопроса), и для каждого вопроса известна позиция его дубликата ($ \\text{rank}_{q'_i} $):\n",
    "\n",
    "- $ \\text{rank}_{q'_1} = 2 $,\n",
    "- $ \\text{rank}_{q'_2} = 5 $,\n",
    "- $ \\text{rank}_{q'_3} = 1 $.\n",
    "\n",
    "Мы будем вычислять **DCG@K** для $ K = 1, 5 $.\n",
    "\n",
    "---\n",
    "**Для $ K = 1 $:**\n",
    "Подставим значения:\n",
    "$$\n",
    "\\text{DCG@1} = \\frac{1}{3} \\cdot \\left( \\frac{1}{\\log_2(1 + \\text{rank}_{q'_1})} \\cdot [\\text{rank}_{q'_1} \\leq 1] + \\frac{1}{\\log_2(1 + \\text{rank}_{q'_2})} \\cdot [\\text{rank}_{q'_2} \\leq 1] + \\frac{1}{\\log_2(1 + \\text{rank}_{q'_3})} \\cdot [\\text{rank}_{q'_3} \\leq 1] \\right).\n",
    "$$\n",
    "\n",
    "Проверяем условие $ \\text{rank}_{q'_i} \\leq 1 $ для каждого вопроса:\n",
    "- $ \\text{rank}_{q'_1} = 2 $ → $ 2 \\not\\leq 1 $ → $ 0 $,\n",
    "- $ \\text{rank}_{q'_2} = 5 $ → $ 5 \\not\\leq 1 $ → $ 0 $,\n",
    "- $ \\text{rank}_{q'_3} = 1 $ → $ 1 \\leq 1 $ → $ 1 $.\n",
    "\n",
    "Сумма:\n",
    "$$\n",
    "\\text{DCG@1} = \\frac{1}{3} \\cdot (0 + 0 + 1) = \\frac{1}{3}.\n",
    "$$\n",
    "$$\n",
    "\\boxed{\\text{DCG@1} = \\frac{1}{3}}.\n",
    "$$\n",
    "\n",
    "---\n",
    "\n",
    "\n",
    "**Для $ K = 5 $:**\n",
    "Подставим значения:\n",
    "$$\n",
    "\\text{DCG@5} = \\frac{1}{3} \\cdot \\left( \\frac{1}{\\log_2(1 + \\text{rank}_{q'_1})} \\cdot [\\text{rank}_{q'_1} \\leq 5] + \\frac{1}{\\log_2(1 + \\text{rank}_{q'_2})} \\cdot [\\text{rank}_{q'_2} \\leq 5] + \\frac{1}{\\log_2(1 + \\text{rank}_{q'_3})} \\cdot [\\text{rank}_{q'_3} \\leq 5] \\right).\n",
    "$$\n",
    "\n",
    "Проверяем условие $ \\text{rank}_{q'_i} \\leq 5 $ для каждого вопроса:\n",
    "- $ \\text{rank}_{q'_1} = 2 $ → $ 2 \\leq 5 $ → $ 1 $,\n",
    "- $ \\text{rank}_{q'_2} = 5 $ → $ 5 \\leq 5 $ → $ 1 $,\n",
    "- $ \\text{rank}_{q'_3} = 1 $ → $ 1 \\leq 5 $ → $ 1 $.\n",
    "\n",
    "Сумма:\n",
    "$$\n",
    "\\text{DCG@5} = \\frac{1}{3} \\cdot (0.631 + 0.387 + 1) = \\frac{1}{3} \\cdot 2.018 \\approx 0.673.\n",
    "$$\n",
    "\n",
    "$$\n",
    "\\boxed{\\text{DCG@5} \\approx 0.673}.\n",
    "$$"
   ]
  },
  {
   "cell_type": "markdown",
   "metadata": {
    "id": "eHCnH-jw6j18"
   },
   "source": [
    "#### ***Вопрос 4:***\n",
    "* Найдите максимум `Hits@47 - DCG@1`?\n",
    "\n"
   ]
  },
  {
   "cell_type": "code",
   "execution_count": 66,
   "metadata": {
    "execution": {
     "iopub.execute_input": "2025-02-22T09:55:32.445179Z",
     "iopub.status.busy": "2025-02-22T09:55:32.444143Z",
     "iopub.status.idle": "2025-02-22T09:55:32.458057Z",
     "shell.execute_reply": "2025-02-22T09:55:32.457348Z",
     "shell.execute_reply.started": "2025-02-22T09:55:32.445147Z"
    },
    "tags": []
   },
   "outputs": [],
   "source": [
    "# Ответ\n",
    "# Максимум равен единице.  Пример, когда наша модель правильному предложению всегда дает второе место на всех тестовых примерах. В этом случае\n",
    "# первая метрика будет равна единице, а вторая нулю."
   ]
  },
  {
   "cell_type": "markdown",
   "metadata": {
    "id": "J5xWOORI6j2F"
   },
   "source": [
    "### HITS\\_COUNT и DCG\\_SCORE"
   ]
  },
  {
   "cell_type": "markdown",
   "metadata": {
    "id": "I1q9WQOx6j2H"
   },
   "source": [
    "Каждая функция имеет два аргумента: $dup\\_ranks$ и $k$.\n",
    "\n",
    "$dup\\_ranks$ является списком, который содержит рейтинги дубликатов (их позиции в ранжированном списке).\n",
    "\n",
    "К примеру для <font color='red'>\"Что такое язык python?\"</font> $dup\\_ranks = [2]$."
   ]
  },
  {
   "cell_type": "code",
   "execution_count": 67,
   "metadata": {
    "execution": {
     "iopub.execute_input": "2025-02-22T09:55:33.168621Z",
     "iopub.status.busy": "2025-02-22T09:55:33.167580Z",
     "iopub.status.idle": "2025-02-22T09:55:33.187705Z",
     "shell.execute_reply": "2025-02-22T09:55:33.186839Z",
     "shell.execute_reply.started": "2025-02-22T09:55:33.168589Z"
    },
    "id": "F5VwySUB6j2J",
    "tags": []
   },
   "outputs": [],
   "source": [
    "def hits_count(dup_ranks, k):\n",
    "    \"\"\"\n",
    "        dup_ranks: list индексов дубликатов\n",
    "        k: пороговое значение для ранга\n",
    "        result: вернуть Hits@k\n",
    "    \"\"\"\n",
    "    # Подсчитываем количество дубликатов, чей ранг <= k\n",
    "    hits_values = [1 if dup<= k else 0 for dup in dup_ranks]\n",
    "    return np.asarray(hits_values).sum() / len(dup_ranks)"
   ]
  },
  {
   "cell_type": "code",
   "execution_count": 68,
   "metadata": {
    "execution": {
     "iopub.execute_input": "2025-02-22T09:55:33.635901Z",
     "iopub.status.busy": "2025-02-22T09:55:33.634922Z",
     "iopub.status.idle": "2025-02-22T09:55:33.665828Z",
     "shell.execute_reply": "2025-02-22T09:55:33.664952Z",
     "shell.execute_reply.started": "2025-02-22T09:55:33.635870Z"
    },
    "id": "vSjm_5eWYVYI",
    "tags": []
   },
   "outputs": [
    {
     "name": "stdout",
     "output_type": "stream",
     "text": [
      "Hits@1 = 0.0\n",
      "Hits@4 = 1.0\n"
     ]
    }
   ],
   "source": [
    "dup_ranks = [2]\n",
    "\n",
    "k = 1\n",
    "hits_value = hits_count(dup_ranks, k)\n",
    "print(f\"Hits@1 = {hits_value}\")\n",
    "\n",
    "k = 4\n",
    "hits_value = hits_count(dup_ranks, k)\n",
    "print(f\"Hits@4 = {hits_value}\")"
   ]
  },
  {
   "cell_type": "code",
   "execution_count": 69,
   "metadata": {
    "execution": {
     "iopub.execute_input": "2025-02-22T09:55:33.993328Z",
     "iopub.status.busy": "2025-02-22T09:55:33.992321Z",
     "iopub.status.idle": "2025-02-22T09:55:34.004058Z",
     "shell.execute_reply": "2025-02-22T09:55:34.003331Z",
     "shell.execute_reply.started": "2025-02-22T09:55:33.993298Z"
    },
    "id": "82hQaxCH6j2R",
    "tags": []
   },
   "outputs": [],
   "source": [
    "import math\n",
    "\n",
    "def dcg_score(dup_ranks, k):\n",
    "    \"\"\"\n",
    "        dup_ranks: list индексов дубликатов\n",
    "        k: пороговое значение для ранга\n",
    "        result: вернуть DCG@k\n",
    "    \"\"\"\n",
    "    # Вычисляем сумму для всех релевантных дубликатов\n",
    "    dcg_values = [1 / np.log2(1 + dup) if dup <= k else 0 for dup in dup_ranks]\n",
    "\n",
    "    # Делим на общее количество вопросов\n",
    "    '''your code'''\n",
    "    return np.asarray(dcg_values).sum() / len(dup_ranks)"
   ]
  },
  {
   "cell_type": "code",
   "execution_count": 70,
   "metadata": {
    "execution": {
     "iopub.execute_input": "2025-02-22T09:55:34.190271Z",
     "iopub.status.busy": "2025-02-22T09:55:34.189094Z",
     "iopub.status.idle": "2025-02-22T09:55:34.201432Z",
     "shell.execute_reply": "2025-02-22T09:55:34.200672Z",
     "shell.execute_reply.started": "2025-02-22T09:55:34.190239Z"
    },
    "id": "OJYsEdx-amB4",
    "tags": []
   },
   "outputs": [
    {
     "name": "stdout",
     "output_type": "stream",
     "text": [
      "DCG@1 = 0.000\n",
      "DCG@10 = 0.631\n"
     ]
    }
   ],
   "source": [
    "# Пример списка позиций дубликатов\n",
    "dup_ranks = [2]\n",
    "\n",
    "# Вычисляем DCG@1\n",
    "dcg_value = dcg_score(dup_ranks, k=1)\n",
    "print(f\"DCG@1 = {dcg_value:.3f}\")\n",
    "\n",
    "# Вычисляем DCG@4\n",
    "dcg_value = dcg_score(dup_ranks, k=4)\n",
    "print(f\"DCG@10 = {dcg_value:.3f}\")"
   ]
  },
  {
   "cell_type": "markdown",
   "metadata": {
    "id": "PcwHeXN26j2Y"
   },
   "source": [
    "Протестируем функции. Пусть $N = 1$, то есть один эксперимент. Будем искать копию вопроса и оценивать метрики."
   ]
  },
  {
   "cell_type": "code",
   "execution_count": 71,
   "metadata": {
    "execution": {
     "iopub.execute_input": "2025-02-22T09:55:35.335202Z",
     "iopub.status.busy": "2025-02-22T09:55:35.334269Z",
     "iopub.status.idle": "2025-02-22T09:55:35.345373Z",
     "shell.execute_reply": "2025-02-22T09:55:35.344641Z",
     "shell.execute_reply.started": "2025-02-22T09:55:35.335170Z"
    },
    "id": "fjISmOEW6j2h",
    "tags": []
   },
   "outputs": [],
   "source": [
    "import pandas as pd"
   ]
  },
  {
   "cell_type": "code",
   "execution_count": 72,
   "metadata": {
    "execution": {
     "iopub.execute_input": "2025-02-22T09:55:35.672981Z",
     "iopub.status.busy": "2025-02-22T09:55:35.672101Z",
     "iopub.status.idle": "2025-02-22T09:55:35.689236Z",
     "shell.execute_reply": "2025-02-22T09:55:35.688544Z",
     "shell.execute_reply.started": "2025-02-22T09:55:35.672952Z"
    },
    "id": "gLa_Wqfh6j2m",
    "tags": []
   },
   "outputs": [
    {
     "name": "stdout",
     "output_type": "stream",
     "text": [
      "Ваш ответ HIT: [0.0, 1.0, 1.0, 1.0]\n",
      "Ваш ответ DCG: [0.0, 0.63093, 0.63093, 0.63093]\n"
     ]
    }
   ],
   "source": [
    "copy_answers = [\"How does the catch keyword determine the type of exception that was thrown\",]\n",
    "\n",
    "# наши кандидаты\n",
    "candidates_ranking = [[\"How Can I Make These Links Rotate in PHP\",\n",
    "                       \"How does the catch keyword determine the type of exception that was thrown\",\n",
    "                       \"NSLog array description not memory address\",\n",
    "                       \"PECL_HTTP not recognised php ubuntu\"],]\n",
    "\n",
    "# dup_ranks — позиции наших копий, так как эксперимент один, то этот массив длины 1\n",
    "dup_ranks = [2]\n",
    "\n",
    "# вычисляем метрику для разных k\n",
    "print('Ваш ответ HIT:', [hits_count(dup_ranks, k) for k in range(1, 5)])\n",
    "print('Ваш ответ DCG:', [round(dcg_score(dup_ranks, k), 5) for k in range(1, 5)])"
   ]
  },
  {
   "cell_type": "markdown",
   "metadata": {
    "id": "MoHC3YoQ6j2t"
   },
   "source": [
    "У вас должно получиться"
   ]
  },
  {
   "cell_type": "code",
   "execution_count": 73,
   "metadata": {
    "colab": {
     "base_uri": "https://localhost:8080/",
     "height": 112
    },
    "execution": {
     "iopub.execute_input": "2025-02-22T09:55:37.489238Z",
     "iopub.status.busy": "2025-02-22T09:55:37.488156Z",
     "iopub.status.idle": "2025-02-22T09:55:37.510221Z",
     "shell.execute_reply": "2025-02-22T09:55:37.509524Z",
     "shell.execute_reply.started": "2025-02-22T09:55:37.489206Z"
    },
    "id": "B0NFWq4f6j2u",
    "outputId": "4d70f590-9924-4b50-d400-cdbf43edf093",
    "scrolled": true,
    "tags": []
   },
   "outputs": [
    {
     "data": {
      "text/html": [
       "<div>\n",
       "<style scoped>\n",
       "    .dataframe tbody tr th:only-of-type {\n",
       "        vertical-align: middle;\n",
       "    }\n",
       "\n",
       "    .dataframe tbody tr th {\n",
       "        vertical-align: top;\n",
       "    }\n",
       "\n",
       "    .dataframe thead th {\n",
       "        text-align: right;\n",
       "    }\n",
       "</style>\n",
       "<table border=\"1\" class=\"dataframe\">\n",
       "  <thead>\n",
       "    <tr style=\"text-align: right;\">\n",
       "      <th></th>\n",
       "      <th>1</th>\n",
       "      <th>2</th>\n",
       "      <th>3</th>\n",
       "      <th>4</th>\n",
       "    </tr>\n",
       "  </thead>\n",
       "  <tbody>\n",
       "    <tr>\n",
       "      <th>HITS</th>\n",
       "      <td>0</td>\n",
       "      <td>1.00000</td>\n",
       "      <td>1.00000</td>\n",
       "      <td>1.00000</td>\n",
       "    </tr>\n",
       "    <tr>\n",
       "      <th>DCG</th>\n",
       "      <td>0</td>\n",
       "      <td>0.63093</td>\n",
       "      <td>0.63093</td>\n",
       "      <td>0.63093</td>\n",
       "    </tr>\n",
       "  </tbody>\n",
       "</table>\n",
       "</div>"
      ],
      "text/plain": [
       "      1        2        3        4\n",
       "HITS  0  1.00000  1.00000  1.00000\n",
       "DCG   0  0.63093  0.63093  0.63093"
      ]
     },
     "execution_count": 73,
     "metadata": {},
     "output_type": "execute_result"
    }
   ],
   "source": [
    "# correct_answers - метрика для разных k\n",
    "correct_answers = pd.DataFrame([[0, 1, 1, 1], [0, 1 / (np.log2(3)), 1 / (np.log2(3)), 1 / (np.log2(3))]],\n",
    "                               index=['HITS', 'DCG'], columns=range(1,5))\n",
    "correct_answers"
   ]
  },
  {
   "cell_type": "markdown",
   "metadata": {
    "id": "tHZqgDTo6j0i"
   },
   "source": [
    "### Данные\n",
    "[arxiv link](https://drive.google.com/file/d/1QqT4D0EoqJTy7v9VrNCYD-m964XZFR7_/edit)\n",
    "\n",
    "`train.tsv` - выборка для обучения.<br> В каждой строке через табуляцию записаны: **<вопрос>, <похожий вопрос>**\n",
    "\n",
    "`validation.tsv` - тестовая выборка.<br> В каждой строке через табуляцию записаны: **<вопрос>, <похожий вопрос>, <отрицательный пример 1>, <отрицательный пример 2>, ...**"
   ]
  },
  {
   "cell_type": "code",
   "execution_count": 74,
   "metadata": {
    "colab": {
     "base_uri": "https://localhost:8080/"
    },
    "execution": {
     "iopub.execute_input": "2025-02-22T09:55:39.268221Z",
     "iopub.status.busy": "2025-02-22T09:55:39.267428Z",
     "iopub.status.idle": "2025-02-22T09:55:39.277412Z",
     "shell.execute_reply": "2025-02-22T09:55:39.276805Z",
     "shell.execute_reply.started": "2025-02-22T09:55:39.268191Z"
    },
    "id": "jKVK2lDGvrIe",
    "outputId": "97ec0599-63f2-41dd-faf3-7a513d27e325",
    "tags": []
   },
   "outputs": [],
   "source": [
    "# !unzip stackoverflow_similar_questions.zip"
   ]
  },
  {
   "cell_type": "markdown",
   "metadata": {
    "id": "hil2UsUG6j22"
   },
   "source": [
    "Считайте данные."
   ]
  },
  {
   "cell_type": "code",
   "execution_count": 75,
   "metadata": {
    "execution": {
     "iopub.execute_input": "2025-02-22T09:55:39.866322Z",
     "iopub.status.busy": "2025-02-22T09:55:39.865303Z",
     "iopub.status.idle": "2025-02-22T09:55:39.876098Z",
     "shell.execute_reply": "2025-02-22T09:55:39.875350Z",
     "shell.execute_reply.started": "2025-02-22T09:55:39.866288Z"
    },
    "id": "B4EBho8s6j26",
    "tags": []
   },
   "outputs": [],
   "source": [
    "def read_corpus(filename):\n",
    "    data = []\n",
    "    with open(filename, encoding='utf-8') as file:\n",
    "        for line in file:\n",
    "            data.append(line.strip().split('\\t'))\n",
    "    return data"
   ]
  },
  {
   "cell_type": "markdown",
   "metadata": {
    "id": "kkTxY3Mk9_nG"
   },
   "source": [
    "Нам понадобиться только файл validation."
   ]
  },
  {
   "cell_type": "code",
   "execution_count": 76,
   "metadata": {
    "execution": {
     "iopub.execute_input": "2025-02-22T09:55:41.554096Z",
     "iopub.status.busy": "2025-02-22T09:55:41.553088Z",
     "iopub.status.idle": "2025-02-22T09:55:42.799647Z",
     "shell.execute_reply": "2025-02-22T09:55:42.798755Z",
     "shell.execute_reply.started": "2025-02-22T09:55:41.554047Z"
    },
    "id": "PTVB9Tnp6j29",
    "tags": []
   },
   "outputs": [],
   "source": [
    "validation_data = read_corpus('./data/validation.tsv')"
   ]
  },
  {
   "cell_type": "markdown",
   "metadata": {
    "id": "bTHfL-9y6j3F"
   },
   "source": [
    "Кол-во строк"
   ]
  },
  {
   "cell_type": "code",
   "execution_count": 77,
   "metadata": {
    "execution": {
     "iopub.execute_input": "2025-02-22T09:55:42.801641Z",
     "iopub.status.busy": "2025-02-22T09:55:42.800856Z",
     "iopub.status.idle": "2025-02-22T09:55:42.844057Z",
     "shell.execute_reply": "2025-02-22T09:55:42.843245Z",
     "shell.execute_reply.started": "2025-02-22T09:55:42.801616Z"
    },
    "id": "z6ubXhIe6j3H",
    "tags": []
   },
   "outputs": [
    {
     "data": {
      "text/plain": [
       "3760"
      ]
     },
     "execution_count": 77,
     "metadata": {},
     "output_type": "execute_result"
    }
   ],
   "source": [
    "len(validation_data)"
   ]
  },
  {
   "cell_type": "markdown",
   "metadata": {
    "id": "kaOQblBy6j3M"
   },
   "source": [
    "Размер нескольких первых строк"
   ]
  },
  {
   "cell_type": "code",
   "execution_count": 78,
   "metadata": {
    "execution": {
     "iopub.execute_input": "2025-02-22T09:55:43.513324Z",
     "iopub.status.busy": "2025-02-22T09:55:43.512390Z",
     "iopub.status.idle": "2025-02-22T09:55:43.523128Z",
     "shell.execute_reply": "2025-02-22T09:55:43.522412Z",
     "shell.execute_reply.started": "2025-02-22T09:55:43.513295Z"
    },
    "id": "yRx6e-Pe6j3M",
    "tags": []
   },
   "outputs": [
    {
     "name": "stdout",
     "output_type": "stream",
     "text": [
      "1 1001\n",
      "2 1001\n",
      "3 1001\n",
      "4 1001\n",
      "5 1001\n",
      "6 1001\n",
      "7 1001\n",
      "8 1001\n",
      "9 1001\n",
      "10 1001\n",
      "11 1001\n",
      "12 1001\n",
      "13 1001\n",
      "14 1001\n",
      "15 1001\n",
      "16 1001\n",
      "17 1001\n",
      "18 1001\n",
      "19 1001\n",
      "20 1001\n",
      "21 1001\n",
      "22 1001\n",
      "23 1001\n",
      "24 1001\n",
      "25 1001\n"
     ]
    }
   ],
   "source": [
    "for i in range(25):\n",
    "    print(i + 1, len(validation_data[i]))"
   ]
  },
  {
   "cell_type": "markdown",
   "metadata": {
    "id": "ySQQp0oQt1Ep"
   },
   "source": [
    "### Ранжирование без обучения"
   ]
  },
  {
   "cell_type": "markdown",
   "metadata": {
    "id": "iElEDhj-6j3R"
   },
   "source": [
    "Реализуйте функцию ранжирования кандидатов на основе косинусного расстояния. Функция должна по списку кандидатов вернуть отсортированный список пар (позиция в исходном списке кандидатов, кандидат). При этом позиция кандидата в полученном списке является его рейтингом (первый - лучший). Например, если исходный список кандидатов был [a, b, c], и самый похожий на исходный вопрос среди них - c, затем a, и в конце b, то функция должна вернуть список **[(2, c), (0, a), (1, b)]**."
   ]
  },
  {
   "cell_type": "code",
   "execution_count": 79,
   "metadata": {
    "execution": {
     "iopub.execute_input": "2025-02-22T09:55:46.793625Z",
     "iopub.status.busy": "2025-02-22T09:55:46.792782Z",
     "iopub.status.idle": "2025-02-22T09:55:46.803073Z",
     "shell.execute_reply": "2025-02-22T09:55:46.802455Z",
     "shell.execute_reply.started": "2025-02-22T09:55:46.793596Z"
    },
    "id": "K02JARKr6j3T",
    "tags": []
   },
   "outputs": [],
   "source": [
    "from sklearn.metrics.pairwise import cosine_similarity\n",
    "from copy import deepcopy"
   ]
  },
  {
   "cell_type": "code",
   "execution_count": 80,
   "metadata": {
    "execution": {
     "iopub.execute_input": "2025-02-22T09:55:46.948365Z",
     "iopub.status.busy": "2025-02-22T09:55:46.947389Z",
     "iopub.status.idle": "2025-02-22T09:55:46.959936Z",
     "shell.execute_reply": "2025-02-22T09:55:46.959307Z",
     "shell.execute_reply.started": "2025-02-22T09:55:46.948335Z"
    },
    "id": "1yP8wJWj6j3X",
    "tags": []
   },
   "outputs": [],
   "source": [
    "def rank_candidates(question, candidates, embeddings, tokenizer, dim=200):\n",
    "    \"\"\"\n",
    "        question: строка\n",
    "        candidates: массив строк(кандидатов) [a, b, c]\n",
    "        result: пары (начальная позиция, кандидат) [(2, c), (0, a), (1, b)]\n",
    "    \"\"\"\n",
    "    ques_emb = question_to_vec(question, embeddings, tokenizer, dim)\n",
    "    candidates_emd = [question_to_vec(candidate, embeddings, tokenizer, dim) for candidate in candidates]\n",
    "    similarities = cosine_similarity(np.asarray(ques_emb).reshape(1, 200), np.stack(candidates_emd))\n",
    "    \n",
    "    result = [(i, sim_ques[0], sim_ques[1]) for i, sim_ques in enumerate(zip(candidates, similarities[0]))]\n",
    "    \n",
    "    result = sorted(result, key=lambda x: x[2], reverse=True)\n",
    "    \n",
    "    result = [(elem[0], elem[1]) for elem in result]\n",
    "    return result"
   ]
  },
  {
   "cell_type": "markdown",
   "metadata": {
    "id": "TnBszTb76j3c"
   },
   "source": [
    "Протестируйте работу функции на примерах ниже. Пусть $N=2$, то есть два эксперимента"
   ]
  },
  {
   "cell_type": "code",
   "execution_count": 81,
   "metadata": {
    "execution": {
     "iopub.execute_input": "2025-02-22T09:55:47.690427Z",
     "iopub.status.busy": "2025-02-22T09:55:47.689294Z",
     "iopub.status.idle": "2025-02-22T09:55:47.699687Z",
     "shell.execute_reply": "2025-02-22T09:55:47.698965Z",
     "shell.execute_reply.started": "2025-02-22T09:55:47.690396Z"
    },
    "id": "xvQgtP176j3h",
    "tags": []
   },
   "outputs": [],
   "source": [
    "questions = ['converting string to list', 'Sending array via Ajax fails']\n",
    "\n",
    "candidates = [['Convert Google results object (pure js) to Python object', # первый эксперимент\n",
    "               'C# create cookie from string and send it',\n",
    "               'How to use jQuery AJAX for an outside domain?'],\n",
    "\n",
    "              ['Getting all list items of an unordered list in PHP',      # второй эксперимент\n",
    "               'WPF- How to update the changes in list item of a list',\n",
    "               'select2 not displaying search results']]"
   ]
  },
  {
   "cell_type": "code",
   "execution_count": 82,
   "metadata": {
    "execution": {
     "iopub.execute_input": "2025-02-22T09:55:48.167547Z",
     "iopub.status.busy": "2025-02-22T09:55:48.166544Z",
     "iopub.status.idle": "2025-02-22T09:55:48.184094Z",
     "shell.execute_reply": "2025-02-22T09:55:48.183265Z",
     "shell.execute_reply.started": "2025-02-22T09:55:48.167514Z"
    },
    "tags": []
   },
   "outputs": [
    {
     "name": "stdout",
     "output_type": "stream",
     "text": [
      "[(1, 'C# create cookie from string and send it'), (0, 'Convert Google results object (pure js) to Python object'), (2, 'How to use jQuery AJAX for an outside domain?')]\n",
      "\n",
      "[(1, 'WPF- How to update the changes in list item of a list'), (0, 'Getting all list items of an unordered list in PHP'), (2, 'select2 not displaying search results')]\n",
      "\n"
     ]
    }
   ],
   "source": [
    "for question, q_candidates in zip(questions, candidates):\n",
    "        ranks = rank_candidates(question, q_candidates, wv_embeddings, tokenizer)\n",
    "        print(ranks)\n",
    "        print()"
   ]
  },
  {
   "cell_type": "markdown",
   "metadata": {
    "id": "jm4cidj56j3q"
   },
   "source": [
    "Для первого экперимента вы можете полностью сравнить ваши ответы и правильные ответы. Но для второго эксперимента два ответа на кандидаты будут <b>скрыты</b>(*)"
   ]
  },
  {
   "cell_type": "code",
   "execution_count": null,
   "metadata": {
    "id": "0LeKMIsn6j3s",
    "tags": []
   },
   "outputs": [],
   "source": [
    "# должно вывести\n",
    "results = [[(1, 'C# create cookie from string and send it'),\n",
    "            (0, 'Convert Google results object (pure js) to Python object'),\n",
    "            (2, 'How to use jQuery AJAX for an outside domain?')],\n",
    "           [(*, 'Getting all list items of an unordered list in PHP'), #скрыт\n",
    "            (*, 'select2 not displaying search results'), #скрыт\n",
    "            (*, 'WPF- How to update the changes in list item of a list')]] #скрыт"
   ]
  },
  {
   "cell_type": "markdown",
   "metadata": {
    "id": "t1ttnIBe6j3x"
   },
   "source": [
    "Последовательность начальных индексов вы должны получить `для эксперимента 1`  1, 0, 2."
   ]
  },
  {
   "cell_type": "markdown",
   "metadata": {
    "id": "5WQgYDWd6j3y"
   },
   "source": [
    "#### ***Вопрос 5:***\n",
    "* Какую последовательность начальных индексов вы получили `для эксперимента 2`(перечисление без запятой и пробелов, например, `102` для первого эксперимента?\n",
    "Ответ - 102 (если добавитб нормализацию текстов, ответ меняется на другой.)"
   ]
  },
  {
   "cell_type": "markdown",
   "metadata": {
    "id": "fPllOY-Y6j30"
   },
   "source": [
    "Теперь мы можем оценить качество нашего метода. Запустите следующие два блока кода для получения результата. Обратите внимание, что вычисление расстояния между векторами занимает некоторое время (примерно 10 минут). Можете взять для validation 1000 примеров."
   ]
  },
  {
   "cell_type": "code",
   "execution_count": 83,
   "metadata": {
    "execution": {
     "iopub.execute_input": "2025-02-22T09:56:22.965267Z",
     "iopub.status.busy": "2025-02-22T09:56:22.964287Z",
     "iopub.status.idle": "2025-02-22T09:56:22.974291Z",
     "shell.execute_reply": "2025-02-22T09:56:22.973559Z",
     "shell.execute_reply.started": "2025-02-22T09:56:22.965235Z"
    },
    "id": "Z3q9sxddz-yU",
    "tags": []
   },
   "outputs": [],
   "source": [
    "from tqdm.notebook import tqdm"
   ]
  },
  {
   "cell_type": "code",
   "execution_count": 84,
   "metadata": {
    "execution": {
     "iopub.execute_input": "2025-02-22T09:56:23.079662Z",
     "iopub.status.busy": "2025-02-22T09:56:23.078520Z",
     "iopub.status.idle": "2025-02-22T09:57:05.005163Z",
     "shell.execute_reply": "2025-02-22T09:57:05.003220Z",
     "shell.execute_reply.started": "2025-02-22T09:56:23.079626Z"
    },
    "id": "nu7K4mis6j32",
    "tags": []
   },
   "outputs": [
    {
     "data": {
      "application/vnd.jupyter.widget-view+json": {
       "model_id": "8001649091c64c05830048c928f63e97",
       "version_major": 2,
       "version_minor": 0
      },
      "text/plain": [
       "  0%|          | 0/3760 [00:00<?, ?it/s]"
      ]
     },
     "metadata": {},
     "output_type": "display_data"
    }
   ],
   "source": [
    "wv_ranking = []\n",
    "max_validation_examples = 1000\n",
    "for i, line in enumerate(tqdm(validation_data)):\n",
    "    if i == max_validation_examples:\n",
    "        break\n",
    "    q, *ex = line\n",
    "    ranks = rank_candidates(q, ex, wv_embeddings, tokenizer)\n",
    "    wv_ranking.append([r[0] for r in ranks].index(0) + 1)"
   ]
  },
  {
   "cell_type": "code",
   "execution_count": 101,
   "metadata": {
    "execution": {
     "iopub.execute_input": "2025-02-22T10:15:34.920316Z",
     "iopub.status.busy": "2025-02-22T10:15:34.919388Z",
     "iopub.status.idle": "2025-02-22T10:15:34.955694Z",
     "shell.execute_reply": "2025-02-22T10:15:34.954880Z",
     "shell.execute_reply.started": "2025-02-22T10:15:34.920289Z"
    },
    "tags": []
   },
   "outputs": [
    {
     "data": {
      "application/vnd.jupyter.widget-view+json": {
       "model_id": "26331e6c0ab2420d87b60714dad90699",
       "version_major": 2,
       "version_minor": 0
      },
      "text/plain": [
       "  0%|          | 0/6 [00:00<?, ?it/s]"
      ]
     },
     "metadata": {},
     "output_type": "display_data"
    },
    {
     "name": "stdout",
     "output_type": "stream",
     "text": [
      "DCG@   1: 0.317 | Hits@   1: 0.317\n",
      "DCG@   5: 0.385 | Hits@   5: 0.447\n",
      "DCG@  10: 0.407 | Hits@  10: 0.514\n",
      "DCG@ 100: 0.463 | Hits@ 100: 0.785\n",
      "DCG@ 500: 0.485 | Hits@ 500: 0.950\n",
      "DCG@1000: 0.490 | Hits@1000: 1.000\n"
     ]
    }
   ],
   "source": [
    "# WordPunctTokenizer\n",
    "\n",
    "for k in tqdm([1, 5, 10, 100, 500, 1000]):\n",
    "    print(\"DCG@%4d: %.3f | Hits@%4d: %.3f\" % (k, dcg_score(wv_ranking, k), k, hits_count(wv_ranking, k)))"
   ]
  },
  {
   "cell_type": "markdown",
   "metadata": {
    "id": "SZ16fNZ4mxTC"
   },
   "source": [
    "Из формул выше можно понять, что\n",
    "\n",
    "- $ \\text{Hits@K} $ **монотонно неубывающая функция** $ K $, которая стремится к 1 при $ K \\to \\infty $.\n",
    "\n",
    "- $ \\text{DCG@K} $ **монотонно неубывающая функция** $ K $, но рост замедляется с увеличением $ K $ из-за убывания веса $ \\frac{1}{\\log_2(1 + \\text{rank}_{q'_i})} $."
   ]
  },
  {
   "cell_type": "markdown",
   "metadata": {
    "id": "LL6_Rjg3InL8"
   },
   "source": [
    "### Эмбеддинги, обученные на корпусе похожих вопросов"
   ]
  },
  {
   "cell_type": "code",
   "execution_count": 44,
   "metadata": {
    "execution": {
     "iopub.execute_input": "2025-02-22T09:33:20.489838Z",
     "iopub.status.busy": "2025-02-22T09:33:20.488959Z",
     "iopub.status.idle": "2025-02-22T09:33:23.552320Z",
     "shell.execute_reply": "2025-02-22T09:33:23.551515Z",
     "shell.execute_reply.started": "2025-02-22T09:33:20.489780Z"
    },
    "id": "iNvbpR5gJIPz",
    "tags": []
   },
   "outputs": [],
   "source": [
    "train_data = read_corpus('./data/train.tsv')"
   ]
  },
  {
   "cell_type": "markdown",
   "metadata": {
    "id": "Nr281ZyEJfjT"
   },
   "source": [
    "Улучшите качество модели.<br>Склеим вопросы в пары и обучим на них модель Word2Vec из gensim. Выберите размер window. Объясните свой выбор.\n",
    "\n",
    "***Рассмотрим подробнее*** данное склеивание.\n",
    "\n",
    "1. Каждая строка из train_data разбивается на вопрос (question) и список кандидатов.\n",
    "\n",
    "2. Для каждого кандидата вопрос склеивается с ним в одну строку.\n",
    "\n",
    "3. Склеенная строка (combined_text) токенизируется, и полученный список токенов добавляется в общий корпус (corpus).\n",
    "\n",
    "***Пример***\n",
    "\n",
    "    Вопрос: \"What is Python?\"\n",
    "    Кандидаты: [\"Python is a programming language\", \"Java is another language\"]\n",
    "    Склеенные строки:\n",
    "        \"What is Python? Python is a programming language\"\n",
    "        \"What is Python? Java is another language\"\n",
    "         \n",
    "    Токенизированные списки:\n",
    "        ['what', 'is', 'python', 'python', 'is', 'a', 'programming', 'language']\n",
    "        ['what', 'is', 'python', 'java', 'is', 'another', 'language']\n",
    "         \n",
    "     "
   ]
  },
  {
   "cell_type": "code",
   "execution_count": 58,
   "metadata": {
    "execution": {
     "iopub.execute_input": "2025-02-22T09:48:44.419165Z",
     "iopub.status.busy": "2025-02-22T09:48:44.418130Z",
     "iopub.status.idle": "2025-02-22T09:48:56.448585Z",
     "shell.execute_reply": "2025-02-22T09:48:56.447778Z",
     "shell.execute_reply.started": "2025-02-22T09:48:44.419114Z"
    },
    "id": "f6Y46SSQMTL0",
    "tags": []
   },
   "outputs": [],
   "source": [
    "# Создаем общий корпус текстов\n",
    "corpus = []\n",
    "\n",
    "for sample in train_data:\n",
    "    ques = sample[0]\n",
    "    answers = sample[1:]\n",
    "    \n",
    "    for ans in answers:\n",
    "        corpus.append(ques + ' ' + ans)\n",
    "\n",
    "corpus = [tokenizer.tokenize(sample) for sample in corpus]"
   ]
  },
  {
   "cell_type": "code",
   "execution_count": 59,
   "metadata": {
    "execution": {
     "iopub.execute_input": "2025-02-22T09:48:56.450404Z",
     "iopub.status.busy": "2025-02-22T09:48:56.449842Z",
     "iopub.status.idle": "2025-02-22T09:50:45.650522Z",
     "shell.execute_reply": "2025-02-22T09:50:45.649130Z",
     "shell.execute_reply.started": "2025-02-22T09:48:56.450367Z"
    },
    "id": "QuJzAM0cI-UH",
    "tags": []
   },
   "outputs": [],
   "source": [
    "from gensim.models import Word2Vec\n",
    "embeddings_trained = Word2Vec(\n",
    "    sentences=corpus,        # Корпус токенизированных текстов\n",
    "    vector_size=200,         # Размерность векторов\n",
    "    window=5,                # Размер окна контекста\n",
    "    min_count=5,             # Минимальная частота слов\n",
    "    workers=16               # Количество потоков\n",
    ").wv"
   ]
  },
  {
   "cell_type": "code",
   "execution_count": 60,
   "metadata": {
    "execution": {
     "iopub.execute_input": "2025-02-22T09:50:45.653322Z",
     "iopub.status.busy": "2025-02-22T09:50:45.652590Z",
     "iopub.status.idle": "2025-02-22T09:51:54.106162Z",
     "shell.execute_reply": "2025-02-22T09:51:54.104207Z",
     "shell.execute_reply.started": "2025-02-22T09:50:45.653289Z"
    },
    "id": "OQonbm4nMenD",
    "tags": []
   },
   "outputs": [
    {
     "data": {
      "application/vnd.jupyter.widget-view+json": {
       "model_id": "c94c2e1d941444219fdef914dd250501",
       "version_major": 2,
       "version_minor": 0
      },
      "text/plain": [
       "  0%|          | 0/3760 [00:00<?, ?it/s]"
      ]
     },
     "metadata": {},
     "output_type": "display_data"
    }
   ],
   "source": [
    "wv_ranking = []\n",
    "max_validation_examples = 1000\n",
    "for i, line in enumerate(tqdm(validation_data)):\n",
    "    if i == max_validation_examples:\n",
    "        break\n",
    "    q, *ex = line\n",
    "    ranks = rank_candidates(q, ex, embeddings_trained, tokenizer)\n",
    "    wv_ranking.append([r[0] for r in ranks].index(0) + 1)"
   ]
  },
  {
   "cell_type": "code",
   "execution_count": 61,
   "metadata": {
    "execution": {
     "iopub.execute_input": "2025-02-22T09:51:54.112663Z",
     "iopub.status.busy": "2025-02-22T09:51:54.110850Z",
     "iopub.status.idle": "2025-02-22T09:51:54.179400Z",
     "shell.execute_reply": "2025-02-22T09:51:54.178017Z",
     "shell.execute_reply.started": "2025-02-22T09:51:54.112599Z"
    }
   },
   "outputs": [
    {
     "data": {
      "application/vnd.jupyter.widget-view+json": {
       "model_id": "311caae03e91471db3014ecde263e5d5",
       "version_major": 2,
       "version_minor": 0
      },
      "text/plain": [
       "  0%|          | 0/6 [00:00<?, ?it/s]"
      ]
     },
     "metadata": {},
     "output_type": "display_data"
    },
    {
     "name": "stdout",
     "output_type": "stream",
     "text": [
      "DCG@   1: 0.258 | Hits@   1: 0.258\n",
      "DCG@   5: 0.326 | Hits@   5: 0.389\n",
      "DCG@  10: 0.344 | Hits@  10: 0.446\n",
      "DCG@ 100: 0.398 | Hits@ 100: 0.715\n",
      "DCG@ 500: 0.426 | Hits@ 500: 0.930\n",
      "DCG@1000: 0.433 | Hits@1000: 1.000\n"
     ]
    }
   ],
   "source": [
    "# Only WordPunctTokenizer\n",
    "\n",
    "for k in tqdm([1, 5, 10, 100, 500, 1000]):\n",
    "    print(\"DCG@%4d: %.3f | Hits@%4d: %.3f\" % (k, dcg_score(wv_ranking, k), k, hits_count(wv_ranking, k)))"
   ]
  },
  {
   "cell_type": "markdown",
   "metadata": {},
   "source": [
    "# Эксперименты"
   ]
  },
  {
   "cell_type": "markdown",
   "metadata": {
    "tags": []
   },
   "source": [
    "## Добавим нормализацию текстов(все с маленькой буквы + лемантизация текстов)"
   ]
  },
  {
   "cell_type": "markdown",
   "metadata": {
    "tags": []
   },
   "source": [
    "### Косинусная схожесть"
   ]
  },
  {
   "cell_type": "code",
   "execution_count": 89,
   "metadata": {
    "execution": {
     "iopub.execute_input": "2025-02-22T10:01:23.247124Z",
     "iopub.status.busy": "2025-02-22T10:01:23.245928Z",
     "iopub.status.idle": "2025-02-22T10:01:37.690940Z",
     "shell.execute_reply": "2025-02-22T10:01:37.689904Z",
     "shell.execute_reply.started": "2025-02-22T10:01:23.247080Z"
    },
    "tags": []
   },
   "outputs": [
    {
     "name": "stderr",
     "output_type": "stream",
     "text": [
      "[nltk_data] Downloading package wordnet to /home/jupyter/nltk_data...\n"
     ]
    }
   ],
   "source": [
    "from nltk.stem import WordNetLemmatizer\n",
    "import nltk\n",
    "nltk.download('wordnet')\n",
    "wordnet_lemmatizer = WordNetLemmatizer()\n",
    "def question_to_vec(question, embeddings, tokenizer, dim=200):\n",
    "    \"\"\"\n",
    "        question: строка\n",
    "        embeddings: наше векторное представление\n",
    "        dim: размер любого вектора в нашем представлении\n",
    "\n",
    "        return: векторное представление для вопроса\n",
    "    \"\"\"\n",
    "    assert embeddings.vector_size == dim,  'Dim size dont match size of pretrained emdedings'\n",
    "    tokens = tokenizer.tokenize(question.lower())\n",
    "    tokens = [wordnet_lemmatizer.lemmatize(tok) for tok in tokens]\n",
    "    \n",
    "    result = np.zeros(dim)\n",
    "    num_words = 0\n",
    "\n",
    "    for tok in tokens:\n",
    "        if tok in embeddings.key_to_index:\n",
    "            result += embeddings.get_vector(tok)\n",
    "            num_words += 1\n",
    "    return result / num_words if num_words != 0 else result"
   ]
  },
  {
   "cell_type": "code",
   "execution_count": 90,
   "metadata": {
    "execution": {
     "iopub.execute_input": "2025-02-22T10:01:43.484231Z",
     "iopub.status.busy": "2025-02-22T10:01:43.482772Z",
     "iopub.status.idle": "2025-02-22T10:03:37.741954Z",
     "shell.execute_reply": "2025-02-22T10:03:37.740191Z",
     "shell.execute_reply.started": "2025-02-22T10:01:43.484169Z"
    },
    "tags": []
   },
   "outputs": [
    {
     "data": {
      "application/vnd.jupyter.widget-view+json": {
       "model_id": "c7cfee5692244653bfe4c15b39acfe1e",
       "version_major": 2,
       "version_minor": 0
      },
      "text/plain": [
       "  0%|          | 0/3760 [00:00<?, ?it/s]"
      ]
     },
     "metadata": {},
     "output_type": "display_data"
    }
   ],
   "source": [
    "wv_ranking = []\n",
    "max_validation_examples = 1000\n",
    "for i, line in enumerate(tqdm(validation_data)):\n",
    "    if i == max_validation_examples:\n",
    "        break\n",
    "    q, *ex = line\n",
    "    ranks = rank_candidates(q, ex, wv_embeddings, tokenizer)\n",
    "    wv_ranking.append([r[0] for r in ranks].index(0) + 1)"
   ]
  },
  {
   "cell_type": "code",
   "execution_count": 91,
   "metadata": {
    "execution": {
     "iopub.execute_input": "2025-02-22T10:04:12.979875Z",
     "iopub.status.busy": "2025-02-22T10:04:12.978987Z",
     "iopub.status.idle": "2025-02-22T10:04:13.009783Z",
     "shell.execute_reply": "2025-02-22T10:04:13.009110Z",
     "shell.execute_reply.started": "2025-02-22T10:04:12.979837Z"
    }
   },
   "outputs": [
    {
     "data": {
      "application/vnd.jupyter.widget-view+json": {
       "model_id": "2195a262917a423596ea002534d3993b",
       "version_major": 2,
       "version_minor": 0
      },
      "text/plain": [
       "  0%|          | 0/6 [00:00<?, ?it/s]"
      ]
     },
     "metadata": {},
     "output_type": "display_data"
    },
    {
     "name": "stdout",
     "output_type": "stream",
     "text": [
      "DCG@   1: 0.399 | Hits@   1: 0.399\n",
      "DCG@   5: 0.489 | Hits@   5: 0.569\n",
      "DCG@  10: 0.510 | Hits@  10: 0.631\n",
      "DCG@ 100: 0.558 | Hits@ 100: 0.869\n",
      "DCG@ 500: 0.571 | Hits@ 500: 0.966\n",
      "DCG@1000: 0.575 | Hits@1000: 1.000\n"
     ]
    }
   ],
   "source": [
    "for k in tqdm([1, 5, 10, 100, 500, 1000]):\n",
    "    print(\"DCG@%4d: %.3f | Hits@%4d: %.3f\" % (k, dcg_score(wv_ranking, k), k, hits_count(wv_ranking, k)))"
   ]
  },
  {
   "cell_type": "markdown",
   "metadata": {},
   "source": [
    "### Дообучить модель Word2Vec"
   ]
  },
  {
   "cell_type": "code",
   "execution_count": 98,
   "metadata": {
    "execution": {
     "iopub.execute_input": "2025-02-22T10:10:29.910982Z",
     "iopub.status.busy": "2025-02-22T10:10:29.909947Z",
     "iopub.status.idle": "2025-02-22T10:13:25.138492Z",
     "shell.execute_reply": "2025-02-22T10:13:25.136958Z",
     "shell.execute_reply.started": "2025-02-22T10:10:29.910949Z"
    },
    "tags": []
   },
   "outputs": [],
   "source": [
    "# Создаем общий корпус текстов\n",
    "def prepare_text(text, tokenizer):\n",
    "    tokens = tokenizer.tokenize(text.lower())\n",
    "    tokens = [wordnet_lemmatizer.lemmatize(tok) for tok in tokens]\n",
    "    return tokens\n",
    "\n",
    "corpus = []\n",
    "\n",
    "for sample in train_data:\n",
    "    ques = sample[0]\n",
    "    answers = sample[1:]\n",
    "    \n",
    "    for ans in answers:\n",
    "        corpus.append(ques + ' ' + ans)\n",
    "\n",
    "corpus = [prepare_text(sample, tokenizer) for sample in corpus]\n",
    "\n",
    "from gensim.models import Word2Vec\n",
    "embeddings_trained = Word2Vec(\n",
    "    sentences=corpus,        # Корпус токенизированных текстов\n",
    "    vector_size=200,         # Размерность векторов\n",
    "    window=5,                # Размер окна контекста\n",
    "    min_count=5,             # Минимальная частота слов\n",
    "    workers=16               # Количество потоков\n",
    ").wv"
   ]
  },
  {
   "cell_type": "code",
   "execution_count": 99,
   "metadata": {
    "execution": {
     "iopub.execute_input": "2025-02-22T10:13:25.141852Z",
     "iopub.status.busy": "2025-02-22T10:13:25.140756Z",
     "iopub.status.idle": "2025-02-22T10:15:34.781764Z",
     "shell.execute_reply": "2025-02-22T10:15:34.779917Z",
     "shell.execute_reply.started": "2025-02-22T10:13:25.141813Z"
    }
   },
   "outputs": [
    {
     "data": {
      "application/vnd.jupyter.widget-view+json": {
       "model_id": "17e814df9c8648468cd60216c9a1af90",
       "version_major": 2,
       "version_minor": 0
      },
      "text/plain": [
       "  0%|          | 0/3760 [00:00<?, ?it/s]"
      ]
     },
     "metadata": {},
     "output_type": "display_data"
    }
   ],
   "source": [
    "wv_ranking = []\n",
    "max_validation_examples = 1000\n",
    "for i, line in enumerate(tqdm(validation_data)):\n",
    "    if i == max_validation_examples:\n",
    "        break\n",
    "    q, *ex = line\n",
    "    ranks = rank_candidates(q, ex, embeddings_trained, tokenizer)\n",
    "    wv_ranking.append([r[0] for r in ranks].index(0) + 1)"
   ]
  },
  {
   "cell_type": "code",
   "execution_count": 100,
   "metadata": {
    "execution": {
     "iopub.execute_input": "2025-02-22T10:15:34.788087Z",
     "iopub.status.busy": "2025-02-22T10:15:34.786067Z",
     "iopub.status.idle": "2025-02-22T10:15:34.917516Z",
     "shell.execute_reply": "2025-02-22T10:15:34.916596Z",
     "shell.execute_reply.started": "2025-02-22T10:15:34.788016Z"
    }
   },
   "outputs": [
    {
     "data": {
      "application/vnd.jupyter.widget-view+json": {
       "model_id": "8158209ae63148f49319e42e2e29f838",
       "version_major": 2,
       "version_minor": 0
      },
      "text/plain": [
       "  0%|          | 0/6 [00:00<?, ?it/s]"
      ]
     },
     "metadata": {},
     "output_type": "display_data"
    },
    {
     "name": "stdout",
     "output_type": "stream",
     "text": [
      "DCG@   1: 0.317 | Hits@   1: 0.317\n",
      "DCG@   5: 0.385 | Hits@   5: 0.447\n",
      "DCG@  10: 0.407 | Hits@  10: 0.514\n",
      "DCG@ 100: 0.463 | Hits@ 100: 0.785\n",
      "DCG@ 500: 0.485 | Hits@ 500: 0.950\n",
      "DCG@1000: 0.490 | Hits@1000: 1.000\n"
     ]
    }
   ],
   "source": [
    "for k in tqdm([1, 5, 10, 100, 500, 1000]):\n",
    "    print(\"DCG@%4d: %.3f | Hits@%4d: %.3f\" % (k, dcg_score(wv_ranking, k), k, hits_count(wv_ranking, k)))"
   ]
  },
  {
   "cell_type": "markdown",
   "metadata": {},
   "source": [
    "## Попробуем использовать новый токенайзер"
   ]
  },
  {
   "cell_type": "markdown",
   "metadata": {},
   "source": [
    "### Косинусная схожесть"
   ]
  },
  {
   "cell_type": "code",
   "execution_count": 103,
   "metadata": {
    "execution": {
     "iopub.execute_input": "2025-02-22T10:19:30.085222Z",
     "iopub.status.busy": "2025-02-22T10:19:30.084048Z",
     "iopub.status.idle": "2025-02-22T10:19:30.106856Z",
     "shell.execute_reply": "2025-02-22T10:19:30.105940Z",
     "shell.execute_reply.started": "2025-02-22T10:19:30.085187Z"
    },
    "tags": []
   },
   "outputs": [],
   "source": [
    "from nltk.tokenize import TweetTokenizer\n",
    "\n",
    "tokenizer = TweetTokenizer()"
   ]
  },
  {
   "cell_type": "code",
   "execution_count": 104,
   "metadata": {
    "execution": {
     "iopub.execute_input": "2025-02-22T10:19:42.965739Z",
     "iopub.status.busy": "2025-02-22T10:19:42.964861Z",
     "iopub.status.idle": "2025-02-22T10:22:28.907515Z",
     "shell.execute_reply": "2025-02-22T10:22:28.906006Z",
     "shell.execute_reply.started": "2025-02-22T10:19:42.965709Z"
    }
   },
   "outputs": [
    {
     "data": {
      "application/vnd.jupyter.widget-view+json": {
       "model_id": "19ae06a57d654352ae4983cb1f77711e",
       "version_major": 2,
       "version_minor": 0
      },
      "text/plain": [
       "  0%|          | 0/3760 [00:00<?, ?it/s]"
      ]
     },
     "metadata": {},
     "output_type": "display_data"
    }
   ],
   "source": [
    "wv_ranking = []\n",
    "max_validation_examples = 1000\n",
    "for i, line in enumerate(tqdm(validation_data)):\n",
    "    if i == max_validation_examples:\n",
    "        break\n",
    "    q, *ex = line\n",
    "    ranks = rank_candidates(q, ex, wv_embeddings, tokenizer)\n",
    "    wv_ranking.append([r[0] for r in ranks].index(0) + 1)"
   ]
  },
  {
   "cell_type": "code",
   "execution_count": 105,
   "metadata": {
    "execution": {
     "iopub.execute_input": "2025-02-22T10:22:28.912508Z",
     "iopub.status.busy": "2025-02-22T10:22:28.910780Z",
     "iopub.status.idle": "2025-02-22T10:22:28.985512Z",
     "shell.execute_reply": "2025-02-22T10:22:28.984235Z",
     "shell.execute_reply.started": "2025-02-22T10:22:28.912454Z"
    }
   },
   "outputs": [
    {
     "data": {
      "application/vnd.jupyter.widget-view+json": {
       "model_id": "1a521d787a394c019f61ecf6d71a8f40",
       "version_major": 2,
       "version_minor": 0
      },
      "text/plain": [
       "  0%|          | 0/6 [00:00<?, ?it/s]"
      ]
     },
     "metadata": {},
     "output_type": "display_data"
    },
    {
     "name": "stdout",
     "output_type": "stream",
     "text": [
      "DCG@   1: 0.397 | Hits@   1: 0.397\n",
      "DCG@   5: 0.488 | Hits@   5: 0.570\n",
      "DCG@  10: 0.505 | Hits@  10: 0.623\n",
      "DCG@ 100: 0.552 | Hits@ 100: 0.854\n",
      "DCG@ 500: 0.567 | Hits@ 500: 0.967\n",
      "DCG@1000: 0.571 | Hits@1000: 1.000\n"
     ]
    }
   ],
   "source": [
    "for k in tqdm([1, 5, 10, 100, 500, 1000]):\n",
    "    print(\"DCG@%4d: %.3f | Hits@%4d: %.3f\" % (k, dcg_score(wv_ranking, k), k, hits_count(wv_ranking, k)))"
   ]
  },
  {
   "cell_type": "markdown",
   "metadata": {},
   "source": [
    "### Дообучить модель Word2Vec"
   ]
  },
  {
   "cell_type": "code",
   "execution_count": 106,
   "metadata": {
    "execution": {
     "iopub.execute_input": "2025-02-22T10:22:28.992122Z",
     "iopub.status.busy": "2025-02-22T10:22:28.989633Z",
     "iopub.status.idle": "2025-02-22T10:26:24.114316Z",
     "shell.execute_reply": "2025-02-22T10:26:24.112958Z",
     "shell.execute_reply.started": "2025-02-22T10:22:28.992072Z"
    }
   },
   "outputs": [],
   "source": [
    "corpus = []\n",
    "\n",
    "for sample in train_data:\n",
    "    ques = sample[0]\n",
    "    answers = sample[1:]\n",
    "    \n",
    "    for ans in answers:\n",
    "        corpus.append(ques + ' ' + ans)\n",
    "\n",
    "corpus = [prepare_text(sample, tokenizer) for sample in corpus]\n",
    "\n",
    "from gensim.models import Word2Vec\n",
    "embeddings_trained = Word2Vec(\n",
    "    sentences=corpus,        # Корпус токенизированных текстов\n",
    "    vector_size=200,         # Размерность векторов\n",
    "    window=5,                # Размер окна контекста\n",
    "    min_count=5,             # Минимальная частота слов\n",
    "    workers=16               # Количество потоков\n",
    ").wv"
   ]
  },
  {
   "cell_type": "code",
   "execution_count": 107,
   "metadata": {
    "execution": {
     "iopub.execute_input": "2025-02-22T10:26:24.117618Z",
     "iopub.status.busy": "2025-02-22T10:26:24.116632Z",
     "iopub.status.idle": "2025-02-22T10:29:18.353402Z",
     "shell.execute_reply": "2025-02-22T10:29:18.352058Z",
     "shell.execute_reply.started": "2025-02-22T10:26:24.117571Z"
    }
   },
   "outputs": [
    {
     "data": {
      "application/vnd.jupyter.widget-view+json": {
       "model_id": "2df176e38fe94fb3b592fe0217f21603",
       "version_major": 2,
       "version_minor": 0
      },
      "text/plain": [
       "  0%|          | 0/3760 [00:00<?, ?it/s]"
      ]
     },
     "metadata": {},
     "output_type": "display_data"
    }
   ],
   "source": [
    "wv_ranking = []\n",
    "max_validation_examples = 1000\n",
    "for i, line in enumerate(tqdm(validation_data)):\n",
    "    if i == max_validation_examples:\n",
    "        break\n",
    "    q, *ex = line\n",
    "    ranks = rank_candidates(q, ex, embeddings_trained, tokenizer)\n",
    "    wv_ranking.append([r[0] for r in ranks].index(0) + 1)"
   ]
  },
  {
   "cell_type": "code",
   "execution_count": 108,
   "metadata": {
    "execution": {
     "iopub.execute_input": "2025-02-22T10:29:18.357348Z",
     "iopub.status.busy": "2025-02-22T10:29:18.355785Z",
     "iopub.status.idle": "2025-02-22T10:29:18.420642Z",
     "shell.execute_reply": "2025-02-22T10:29:18.419474Z",
     "shell.execute_reply.started": "2025-02-22T10:29:18.357247Z"
    }
   },
   "outputs": [
    {
     "data": {
      "application/vnd.jupyter.widget-view+json": {
       "model_id": "6a8ca23ed9c644fbbe6642149af19fd6",
       "version_major": 2,
       "version_minor": 0
      },
      "text/plain": [
       "  0%|          | 0/6 [00:00<?, ?it/s]"
      ]
     },
     "metadata": {},
     "output_type": "display_data"
    },
    {
     "name": "stdout",
     "output_type": "stream",
     "text": [
      "DCG@   1: 0.315 | Hits@   1: 0.315\n",
      "DCG@   5: 0.390 | Hits@   5: 0.458\n",
      "DCG@  10: 0.409 | Hits@  10: 0.519\n",
      "DCG@ 100: 0.460 | Hits@ 100: 0.765\n",
      "DCG@ 500: 0.482 | Hits@ 500: 0.941\n",
      "DCG@1000: 0.489 | Hits@1000: 1.000\n"
     ]
    }
   ],
   "source": [
    "for k in tqdm([1, 5, 10, 100, 500, 1000]):\n",
    "    print(\"DCG@%4d: %.3f | Hits@%4d: %.3f\" % (k, dcg_score(wv_ranking, k), k, hits_count(wv_ranking, k)))"
   ]
  },
  {
   "cell_type": "markdown",
   "metadata": {},
   "source": [
    "## Попробуем использовать другие эмбединги"
   ]
  },
  {
   "cell_type": "code",
   "execution_count": 109,
   "metadata": {
    "execution": {
     "iopub.execute_input": "2025-02-22T10:29:18.424755Z",
     "iopub.status.busy": "2025-02-22T10:29:18.423769Z",
     "iopub.status.idle": "2025-02-22T10:31:20.809112Z",
     "shell.execute_reply": "2025-02-22T10:31:20.807792Z",
     "shell.execute_reply.started": "2025-02-22T10:29:18.424710Z"
    }
   },
   "outputs": [],
   "source": [
    "import gensim.downloader as api\n",
    "wv_embeddings = api.load('glove-twitter-200')"
   ]
  },
  {
   "cell_type": "code",
   "execution_count": 110,
   "metadata": {
    "execution": {
     "iopub.execute_input": "2025-02-22T10:31:20.904212Z",
     "iopub.status.busy": "2025-02-22T10:31:20.903844Z",
     "iopub.status.idle": "2025-02-22T10:31:20.913714Z",
     "shell.execute_reply": "2025-02-22T10:31:20.913090Z",
     "shell.execute_reply.started": "2025-02-22T10:31:20.904181Z"
    }
   },
   "outputs": [],
   "source": [
    "# Для честного сравнения будем использовать WordPunctTokenizer\n",
    "\n",
    "tokenizer = WordPunctTokenizer()"
   ]
  },
  {
   "cell_type": "markdown",
   "metadata": {},
   "source": [
    "## Косинусная схожесть"
   ]
  },
  {
   "cell_type": "code",
   "execution_count": 111,
   "metadata": {
    "execution": {
     "iopub.execute_input": "2025-02-22T10:31:20.915164Z",
     "iopub.status.busy": "2025-02-22T10:31:20.914711Z",
     "iopub.status.idle": "2025-02-22T10:33:26.877765Z",
     "shell.execute_reply": "2025-02-22T10:33:26.875737Z",
     "shell.execute_reply.started": "2025-02-22T10:31:20.915138Z"
    }
   },
   "outputs": [
    {
     "data": {
      "application/vnd.jupyter.widget-view+json": {
       "model_id": "1f24420845e94f768acc69c58f6a3f3c",
       "version_major": 2,
       "version_minor": 0
      },
      "text/plain": [
       "  0%|          | 0/3760 [00:00<?, ?it/s]"
      ]
     },
     "metadata": {},
     "output_type": "display_data"
    }
   ],
   "source": [
    "wv_ranking = []\n",
    "max_validation_examples = 1000\n",
    "for i, line in enumerate(tqdm(validation_data)):\n",
    "    if i == max_validation_examples:\n",
    "        break\n",
    "    q, *ex = line\n",
    "    ranks = rank_candidates(q, ex, wv_embeddings, tokenizer)\n",
    "    wv_ranking.append([r[0] for r in ranks].index(0) + 1)"
   ]
  },
  {
   "cell_type": "code",
   "execution_count": 112,
   "metadata": {
    "execution": {
     "iopub.execute_input": "2025-02-22T10:33:26.882875Z",
     "iopub.status.busy": "2025-02-22T10:33:26.881079Z",
     "iopub.status.idle": "2025-02-22T10:33:26.966242Z",
     "shell.execute_reply": "2025-02-22T10:33:26.964596Z",
     "shell.execute_reply.started": "2025-02-22T10:33:26.882814Z"
    }
   },
   "outputs": [
    {
     "data": {
      "application/vnd.jupyter.widget-view+json": {
       "model_id": "8a59a0ee60f9423fa48a1eca21be93a7",
       "version_major": 2,
       "version_minor": 0
      },
      "text/plain": [
       "  0%|          | 0/6 [00:00<?, ?it/s]"
      ]
     },
     "metadata": {},
     "output_type": "display_data"
    },
    {
     "name": "stdout",
     "output_type": "stream",
     "text": [
      "DCG@   1: 0.188 | Hits@   1: 0.188\n",
      "DCG@   5: 0.226 | Hits@   5: 0.262\n",
      "DCG@  10: 0.235 | Hits@  10: 0.288\n",
      "DCG@ 100: 0.270 | Hits@ 100: 0.468\n",
      "DCG@ 500: 0.306 | Hits@ 500: 0.753\n",
      "DCG@1000: 0.332 | Hits@1000: 1.000\n"
     ]
    }
   ],
   "source": [
    "for k in tqdm([1, 5, 10, 100, 500, 1000]):\n",
    "    print(\"DCG@%4d: %.3f | Hits@%4d: %.3f\" % (k, dcg_score(wv_ranking, k), k, hits_count(wv_ranking, k)))"
   ]
  },
  {
   "cell_type": "markdown",
   "metadata": {
    "id": "tY8PxB0j-ThG"
   },
   "source": [
    "### Замечание:\n",
    "Решить эту задачу с помощью обучения полноценной нейронной сети будет вам предложено, как часть задания в одной из домашних работ по теме \"Диалоговые системы\"."
   ]
  },
  {
   "cell_type": "markdown",
   "metadata": {
    "id": "vymVj8IxO2PO"
   },
   "source": [
    "Напишите свой вывод о полученных результатах.\n",
    "* Какой принцип токенизации даёт качество лучше и почему?\n",
    "* Помогает ли нормализация слов?\n",
    "* Какие эмбеддинги лучше справляются с задачей и почему?\n",
    "* Почему получилось плохое качество решения задачи?\n",
    "* Предложите свой подход к решению задачи.\n",
    "\n",
    "## Вывод:\n",
    "* Какой принцип токенизации даёт качество лучше и почему?\n",
    "\n",
    "Лучший принцип токенизации чаще всего зависит от типа задачи, которую мы хотим решить. В нашем случае я сравнивал WordPunct tokenizer и TweetTokenizer. Оба токенизатора показывают хорошие результаты, скорее всего потому что сильно схожи токены, которые они находят. Чуть лучше перформит WordPunctTokenizer.\n",
    "\n",
    "* Помогает ли нормализация слов?\n",
    "\n",
    "Да, нормализация сильно улучшает качество работы. В качестве нормализации текстов я использовал несколько вещей:\n",
    "\n",
    "1) текст приводится к нижему регистру \n",
    "2) лемантизация текстов после перехода к токенам\n",
    "\n",
    "* Какие эмбеддинги лучше справляются с задачей и почему?\n",
    "\n",
    "Я сравнивал эмбединги предобученные tweet эмбединги и stack overflow. Stack overflow показали себя лучше. Это объясняется тем, что Stack_overflow хранит огромное количество вопросов и эмбединги при обучении на этих вопросах лучше находят зависимости вопрос-ответ, чем триттерские, которые обученые не только на вопросах, но и на других текстах.\n",
    "\n",
    "* Почему получилось плохое качество решения задачи?\n",
    "\n",
    "Потому что нет взаимодействия слов друг с другом, у нас есть какое-то векторное представление слов или токенов, но при этом нет понимания, как эти слова взаимодействуют между собой. То есть просто ищутся самые \"схожие\" вопросы по словам, но при этом нет анализа смысла этих слов.\n",
    "\n",
    "* Предложите свой подход к решению задачи.\n",
    "\n",
    "Используя эти эмбединги, как входной слов попробовать обучить модель бинарной классификации, где пара правильная - положительный класс, пара вторая - отрицательный. Здесь мы столкнемся с несбалансированными классами, тогда можно либо дополнить данные положительными классами, либо сократить количество отрицательных классов. В идеале - обучение трансформера, если есть достаточно мощностей.\n",
    "\n"
   ]
  }
 ],
 "metadata": {
  "colab": {
   "provenance": []
  },
  "kernelspec": {
   "display_name": "DataSphere Kernel",
   "language": "python",
   "name": "python3"
  },
  "language_info": {
   "codemirror_mode": {
    "name": "ipython",
    "version": 3
   },
   "file_extension": ".py",
   "mimetype": "text/x-python",
   "name": "python",
   "nbconvert_exporter": "python",
   "pygments_lexer": "ipython3",
   "version": "3.10.12"
  }
 },
 "nbformat": 4,
 "nbformat_minor": 4
}
